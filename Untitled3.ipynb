{
 "cells": [
  {
   "cell_type": "code",
   "execution_count": null,
   "id": "17599cb6",
   "metadata": {},
   "outputs": [],
   "source": [
    "\n",
    "\n",
    "import sqlalchemy as sqlal\n",
    "import pandas as pd\n",
    "\n",
    "query = '''SELECT customer.Lastname, customer.Firstname, track.Name, album.Title FROM customer \n",
    "        INNER JOIN invoice ON customer.CustomerId = invoice.CustomerId \n",
    "        INNER JOIN invoiceline ON invoice.InvoiceId = invoiceline.InvoiceId \n",
    "        INNER JOIN track ON invoiceline.TrackId = track.TrackId \n",
    "        INNER JOIN album ON track.AlbumId = album.AlbumId \n",
    "        ORDER BY customer.Lastname, customer.Firstname;'''\n",
    "\n",
    "build_db = sqlal.create_engine('sqlite:///chinook_data/Chinook_Sqlite.sqlite')\n",
    "\n",
    "df = pd.read_sql(query, build_db)\n",
    "\n",
    "df\n",
    "\n"
   ]
  }
 ],
 "metadata": {
  "kernelspec": {
   "display_name": "Python 3 (ipykernel)",
   "language": "python",
   "name": "python3"
  },
  "language_info": {
   "codemirror_mode": {
    "name": "ipython",
    "version": 3
   },
   "file_extension": ".py",
   "mimetype": "text/x-python",
   "name": "python",
   "nbconvert_exporter": "python",
   "pygments_lexer": "ipython3",
   "version": "3.9.7"
  }
 },
 "nbformat": 4,
 "nbformat_minor": 5
}
